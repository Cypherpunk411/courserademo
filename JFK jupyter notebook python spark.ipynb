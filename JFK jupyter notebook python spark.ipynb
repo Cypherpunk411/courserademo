{
    "cells": [
        {
            "cell_type": "markdown",
            "metadata": {},
            "source": "# JFK data spark python"
        },
        {
            "cell_type": "code",
            "execution_count": 1,
            "metadata": {},
            "outputs": [
                {
                    "name": "stdout",
                    "output_type": "stream",
                    "text": "Waiting for a Spark session to start...\nSpark Initialization Done! ApplicationId = app-20200729213913-0000\nKERNEL_ID = 43bc5038-a368-495b-88da-49db3927f04a\n"
                },
                {
                    "data": {
                        "text/plain": "[Row(DATE='1/1/2010 1:00', HOURLYVISIBILITY='6', HOURLYDRYBULBTEMPF='33', HOURLYWETBULBTEMPF='32', HOURLYDewPointTempF='31', HOURLYRelativeHumidity='92', HOURLYWindSpeed='0', HOURLYStationPressure='29.97', HOURLYSeaLevelPressure='29.99', HOURLYPrecip='0.01', HOURLYAltimeterSetting='29.99', HOURLYWindDirectionSin='0', HOURLYWindDirectionCos='1', HOURLYPressureTendencyIncr='0', HOURLYPressureTendencyDecr='1', HOURLYPressureTendencyCons='0'),\n Row(DATE='1/1/2010 2:00', HOURLYVISIBILITY='6', HOURLYDRYBULBTEMPF='33', HOURLYWETBULBTEMPF='33', HOURLYDewPointTempF='32', HOURLYRelativeHumidity='96', HOURLYWindSpeed='0', HOURLYStationPressure='29.97', HOURLYSeaLevelPressure='29.99', HOURLYPrecip='0.02', HOURLYAltimeterSetting='29.99', HOURLYWindDirectionSin='0', HOURLYWindDirectionCos='1', HOURLYPressureTendencyIncr='0', HOURLYPressureTendencyDecr='1', HOURLYPressureTendencyCons='0'),\n Row(DATE='1/1/2010 3:00', HOURLYVISIBILITY='5', HOURLYDRYBULBTEMPF='33', HOURLYWETBULBTEMPF='33', HOURLYDewPointTempF='32', HOURLYRelativeHumidity='96', HOURLYWindSpeed='0', HOURLYStationPressure='29.97', HOURLYSeaLevelPressure='29.99', HOURLYPrecip='0', HOURLYAltimeterSetting='29.99', HOURLYWindDirectionSin='0', HOURLYWindDirectionCos='1', HOURLYPressureTendencyIncr='0', HOURLYPressureTendencyDecr='1', HOURLYPressureTendencyCons='0'),\n Row(DATE='1/1/2010 4:00', HOURLYVISIBILITY='5', HOURLYDRYBULBTEMPF='33', HOURLYWETBULBTEMPF='33', HOURLYDewPointTempF='32', HOURLYRelativeHumidity='96', HOURLYWindSpeed='0', HOURLYStationPressure='29.95', HOURLYSeaLevelPressure='29.97', HOURLYPrecip='0', HOURLYAltimeterSetting='29.97', HOURLYWindDirectionSin='0', HOURLYWindDirectionCos='1', HOURLYPressureTendencyIncr='0', HOURLYPressureTendencyDecr='1', HOURLYPressureTendencyCons='0'),\n Row(DATE='1/1/2010 5:00', HOURLYVISIBILITY='5', HOURLYDRYBULBTEMPF='33', HOURLYWETBULBTEMPF='32', HOURLYDewPointTempF='31', HOURLYRelativeHumidity='92', HOURLYWindSpeed='0', HOURLYStationPressure='29.93', HOURLYSeaLevelPressure='29.96', HOURLYPrecip='0', HOURLYAltimeterSetting='29.95', HOURLYWindDirectionSin='0', HOURLYWindDirectionCos='1', HOURLYPressureTendencyIncr='0', HOURLYPressureTendencyDecr='1', HOURLYPressureTendencyCons='0')]"
                    },
                    "execution_count": 1,
                    "metadata": {},
                    "output_type": "execute_result"
                }
            ],
            "source": "# The code was removed by Watson Studio for sharing."
        },
        {
            "cell_type": "code",
            "execution_count": null,
            "metadata": {},
            "outputs": [],
            "source": ""
        }
    ],
    "metadata": {
        "kernelspec": {
            "display_name": "Scala 2.11 with Spark",
            "language": "scala",
            "name": "scala"
        },
        "language_info": {
            "codemirror_mode": "text/x-scala",
            "file_extension": ".scala",
            "mimetype": "text/x-scala",
            "name": "scala",
            "pygments_lexer": "scala",
            "version": "2.11.12"
        }
    },
    "nbformat": 4,
    "nbformat_minor": 1
}